{
 "cells": [
  {
   "cell_type": "code",
   "execution_count": 1,
   "metadata": {
    "scrolled": false
   },
   "outputs": [],
   "source": [
    "import sys,os\n",
    "import numpy as np\n",
    "import matplotlib.pyplot as plt\n",
    "\n",
    "\n",
    "os.chdir('/reg/neh/home/marcgri/Software/pysingfel/')\n",
    "\n",
    "import pysingfel as ps\n",
    "import pysingfel.solvent_form_factor as sff\n",
    "\n",
    "import time"
   ]
  },
  {
   "cell_type": "code",
   "execution_count": 7,
   "metadata": {
    "scrolled": true
   },
   "outputs": [
    {
     "name": "stdout",
     "output_type": "stream",
     "text": [
      "[1.99, 9.126, 10.027, 0, 'N', 'N', 'ALA']\n",
      "[1.067, 9.654, 8.994, 0, 'C', 'CA', 'ALA']\n",
      "[1.167, 11.156, 8.783, 0, 'C', 'CB', 'ALA']\n",
      "[1.155, 11.908, 9.776, 0, 'O', 'O', 'HIS']\n",
      "[-0.361, 9.267, 9.38, 0, 'C', 'C', 'PHE']\n",
      "[-1.429, 9.868, 8.467, 0, 'S', 'SG', 'CYS']\n",
      "[-2.781, 9.259, 8.802, 0, 'O', 'O', 'PHE']\n",
      "[-3.899, 9.938, 8.018, 0, 'C', 'CG', 'ARG']\n",
      "[-3.839, 10.005, 7.983, 0, 'C', 'CD', 'ARG']\n",
      "[-4.034, 9.39, 6.642, 0, 'N', 'N', 'GLU']\n",
      "(10, 4)\n",
      "[[  1.99    9.126  10.027   0.   ]\n",
      " [  1.067   9.654   8.994   0.   ]\n",
      " [  1.167  11.156   8.783   0.   ]\n",
      " [  1.155  11.908   9.776   0.   ]\n",
      " [ -0.361   9.267   9.38    0.   ]\n",
      " [ -1.429   9.868   8.467   0.   ]\n",
      " [ -2.781   9.259   8.802   0.   ]\n",
      " [ -3.899   9.938   8.018   0.   ]\n",
      " [ -3.839  10.005   7.983   0.   ]\n",
      " [ -4.034   9.39    6.642   0.   ]]\n",
      "[[  1.99    9.126  10.027   0.      2.   ]\n",
      " [  1.067   9.654   8.994   0.      2.   ]\n",
      " [  1.167  11.156   8.783   0.      2.   ]\n",
      " [  1.155  11.908   9.776   0.      2.   ]\n",
      " [ -0.361   9.267   9.38    0.      2.   ]\n",
      " [ -1.429   9.868   8.467   0.      2.   ]\n",
      " [ -2.781   9.259   8.802   0.      2.   ]\n",
      " [ -3.899   9.938   8.018   0.      2.   ]\n",
      " [ -3.839  10.005   7.983   0.      2.   ]\n",
      " [ -4.034   9.39    6.642   0.      2.   ]]\n"
     ]
    }
   ],
   "source": [
    "\n",
    "particles = ps.particle.Particle()\n",
    "particles.read_pdb('examples/input/SAXS_10atoms_mod.pdb','CM')\n",
    "lp = particles.get_num_atoms()\n",
    "\n",
    "\n",
    "\n",
    "\n",
    "\n",
    "\n",
    "\n",
    "\n",
    "ft = sff.form_factor_table.FormFactorTable(None,0.0,3.0,0.01)\n",
    "\n",
    "\n",
    "vacuum_ff = ft.get_vacuum_form_factors()\n",
    "dummy_ff = ft.get_dummy_form_factors()\n",
    "\n",
    "corrected_ff = vacuum_ff - dummy_ff\n",
    "\n",
    "radius = []\n",
    "\n",
    "xyz = particles.get_atom_struct()\n",
    "xyz = np.transpose(xyz)\n",
    "print xyz.shape\n",
    "\n",
    "print xyz\n",
    "\n",
    "symbols = particles.get_atomic_symbol()\n",
    "e = particles.get_atomic_variant()\n",
    "\n",
    "residue = particles.get_residue()\n",
    "\n",
    "for i in range(len(xyz)):\n",
    "    radius.append(2.0)  # for now\n",
    "radius = np.asarray(radius)\n",
    "radius = radius.reshape((lp,1))\n",
    "\n",
    "radius = np.array(radius)\n",
    "\n",
    "xyz_plus_radius = np.hstack((xyz,radius))\n",
    "print xyz_plus_radius\n"
   ]
  },
  {
   "cell_type": "code",
   "execution_count": 8,
   "metadata": {
    "scrolled": true
   },
   "outputs": [
    {
     "name": "stdout",
     "output_type": "stream",
     "text": [
      "Creating solvent accessible surface object\n",
      "RADIUS= [ 2.8  2.8  2.8  2.8  2.8  2.8  2.8  2.8  2.8  2.8] \n",
      "\n",
      "0\n",
      "Calculated 10 particle solvent accessibilities in 0.018479 seconds.\n"
     ]
    }
   ],
   "source": [
    "start = time.time()\n",
    "\n",
    "s = sff.solvent_accessible_surface.SolventAccessibleSurface()\n",
    "surface_area,fraction,sas = s.calculate_asa(xyz_plus_radius,1.4,100)\n",
    "end = time.time()\n",
    "print 'Calculated %d particle solvent accessibilities in %f seconds.' % (len(xyz_plus_radius),end-start)\n",
    "\n"
   ]
  },
  {
   "cell_type": "code",
   "execution_count": 9,
   "metadata": {
    "scrolled": false
   },
   "outputs": [
    {
     "name": "stdout",
     "output_type": "stream",
     "text": [
      "Start partial profile calculation for 10 particles.\n",
      " \n",
      "0\n",
      "N\n",
      "N\n",
      "ALA\n",
      "\n",
      "\n",
      "\n",
      "NH\n",
      "C\n",
      "CA\n",
      "ALA\n",
      "\n",
      "\n",
      "\n",
      "CH\n",
      "C\n",
      "CB\n",
      "ALA\n",
      "\n",
      "\n",
      "\n",
      "CH3\n",
      "O\n",
      "O\n",
      "HIS\n",
      "\n",
      "\n",
      "\n",
      "O\n",
      "C\n",
      "C\n",
      "PHE\n",
      "\n",
      "\n",
      "\n",
      "C\n",
      "S\n",
      "SG\n",
      "CYS\n",
      "\n",
      "\n",
      "\n",
      "SH\n",
      "O\n",
      "O\n",
      "PHE\n",
      "\n",
      "\n",
      "\n",
      "O\n",
      "C\n",
      "CG\n",
      "ARG\n",
      "\n",
      "\n",
      "\n",
      "CH2\n",
      "C\n",
      "CD\n",
      "ARG\n",
      "\n",
      "\n",
      "\n",
      "CH2\n",
      "N\n",
      "N\n",
      "GLU\n",
      "\n",
      "\n",
      "\n",
      "NH\n",
      "0\n",
      "1\n",
      "2\n",
      "3\n",
      "4\n",
      "5\n",
      "6\n",
      "7\n",
      "8\n",
      "9\n",
      "10\n",
      "11\n",
      "12\n",
      "13\n",
      "Opened file for writing successfully.\n",
      "Calculated 10 particle profiles in 0.079540 seconds.\n"
     ]
    }
   ],
   "source": [
    "divisions = 300\n",
    "\n",
    "min_q = 0.0\n",
    "max_q = 3.0\n",
    "delta_q = max_q/divisions\n",
    "start = time.time()\n",
    "model_profile = sff.saxs_profile.Profile(min_q,max_q,delta_q)\n",
    "r_size =3 # for now as c2 = 0\n",
    "intensity  = sff.saxs_profile.calculate_profile_partial(model_profile,particles,fraction,ft,vacuum_ff,dummy_ff,r_size)\n",
    "model_profile.write_SAXS_file('saxs_output.txt')\n",
    "model_profile.write_partial_profiles('partials_output.txt')\n",
    "\n",
    "end = time.time()\n",
    "print 'Calculated %d particle profiles in %f seconds.' % (len(fraction),end-start)\n"
   ]
  },
  {
   "cell_type": "code",
   "execution_count": 10,
   "metadata": {},
   "outputs": [],
   "source": [
    "I = model_profile.get_intensities()"
   ]
  },
  {
   "cell_type": "code",
   "execution_count": 14,
   "metadata": {},
   "outputs": [
    {
     "name": "stdout",
     "output_type": "stream",
     "text": [
      "done\n"
     ]
    },
    {
     "data": {
      "image/png": "[encoded data removed]",
      "text/plain": [
       "<Figure size 432x288 with 1 Axes>"
      ]
     },
     "metadata": {
      "needs_background": "light"
     },
     "output_type": "display_data"
    }
   ],
   "source": [
    "q_samples = np.linspace(min_q,max_q,divisions+1)\n",
    "plt.plot(q_samples,np.log(I),label='IMP_Py')\n",
    "\n",
    "\n",
    "plt.legend(loc='upper right')\n",
    "plt.ylabel('log(I)')\n",
    "plt.xlabel('q ($A^{-1}$)')\n",
    "\n",
    "I = np.asarray(I)\n",
    "\n",
    "print 'done'\n",
    "\n",
    "plt.show()\n"
   ]
  },
  {
   "cell_type": "code",
   "execution_count": null,
   "metadata": {},
   "outputs": [],
   "source": []
  }
 ],
 "metadata": {
  "kernelspec": {
   "display_name": "Python 2",
   "language": "python",
   "name": "python2"
  },
  "language_info": {
   "codemirror_mode": {
    "name": "ipython",
    "version": 2
   },
   "file_extension": ".py",
   "mimetype": "text/x-python",
   "name": "python",
   "nbconvert_exporter": "python",
   "pygments_lexer": "ipython2",
   "version": "2.7.15"
  }
 },
 "nbformat": 4,
 "nbformat_minor": 2
}
